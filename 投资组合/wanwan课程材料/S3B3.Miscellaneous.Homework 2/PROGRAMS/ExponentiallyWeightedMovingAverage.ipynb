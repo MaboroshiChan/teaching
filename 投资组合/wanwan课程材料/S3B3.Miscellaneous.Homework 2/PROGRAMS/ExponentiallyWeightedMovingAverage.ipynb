{
 "cells": [
  {
   "cell_type": "code",
   "execution_count": 7,
   "metadata": {},
   "outputs": [],
   "source": [
    "import pandas as pd\n",
    "import numpy as np\n",
    "import sys\n",
    "\n",
    "import matplotlib.pyplot as plt\n",
    "%matplotlib inline"
   ]
  },
  {
   "cell_type": "markdown",
   "metadata": {},
   "source": [
    "### Exponentially-weighted function to mimic pandas.EWM function\n",
    "This function implements the exponent_weighting function which returns a sequence of $w_j$ as np.array. See below:\n",
    "\n",
    "It defines a sequence of $X_j$ where $j \\subset [0, N]$, an integer taking all values in the interval from 0 to N  $$ X_j =  e^{-\\frac{log(2)}{H} \\times  \\space j}$$\n",
    "where H is half-life which determines the speed of decay, and $log$ is natural log function\n",
    "Then a sequence of exponentially decaying weights $w_j$ is defined as $$ w_j = \\frac{X_j}{ \\sum\\limits_{i=0}^j X_i } $$\n",
    "As per: https://pandas.pydata.org/pandas-docs/stable/user_guide/computation.html#stats-moments-exponentially-weighted (not exact but similar enough)"
   ]
  },
  {
   "cell_type": "code",
   "execution_count": 8,
   "metadata": {},
   "outputs": [],
   "source": [
    "#Exponent weighting function, to take the place of Pandas EWM\n",
    "def exponent_weighting(n_periods, half_life = 252):\n",
    "    \"\"\"\n",
    "    Calculates exponentially smoothed normalized (in probability density function sense) weights\n",
    "    Arguments:\n",
    "    n_periods -- number of periods, an integer, N in the formula above\n",
    "    half_life -- half-life, which determines the speed of decay, h in the formula\n",
    "    \n",
    "    Returns:\n",
    "    exp_probs -- exponentially smoothed weights, np.array\n",
    "    \"\"\"\n",
    "    arr=np.linspace(0, n_periods, num=n_periods+1, endpoint=True, retstep=False, dtype=None, axis=0)\n",
    "    num=np.exp(arr*(-1*np.log(2)/half_life))\n",
    "    denom=np.cumsum(num)\n",
    "    exp_probs=num/denom\n",
    "    exp_probs = np.flip(exp_probs)\n",
    "    exp_probs=exp_probs[1:]\n",
    "    return exp_probs\n",
    "    "
   ]
  },
  {
   "cell_type": "code",
   "execution_count": 9,
   "metadata": {},
   "outputs": [
    {
     "data": {
      "text/plain": [
       "[<matplotlib.lines.Line2D at 0x20efb8a4988>]"
      ]
     },
     "execution_count": 9,
     "metadata": {},
     "output_type": "execute_result"
    },
    {
     "data": {
      "image/png": "[encoded data removed]",
      "text/plain": [
       "<Figure size 432x288 with 1 Axes>"
      ]
     },
     "metadata": {
      "needs_background": "light"
     },
     "output_type": "display_data"
    }
   ],
   "source": [
    "#note the flipping for graphing purposes only, \n",
    "#the graph should look like a probability density function\n",
    "#in reality we want weights applied to returns \n",
    "#to decay as returns are older, further in the past\n",
    "exp_probs = exponent_weighting(252*1)\n",
    "plt.plot(np.flip(exp_probs), linewidth=3) "
   ]
  },
  {
   "cell_type": "code",
   "execution_count": null,
   "metadata": {},
   "outputs": [],
   "source": []
  }
 ],
 "metadata": {
  "anaconda-cloud": {},
  "celltoolbar": "Edit Metadata",
  "coursera": {
   "course_slug": "machine-learning-in-finance"
  },
  "kernelspec": {
   "display_name": "Python 3",
   "language": "python",
   "name": "python3"
  },
  "language_info": {
   "codemirror_mode": {
    "name": "ipython",
    "version": 3
   },
   "file_extension": ".py",
   "mimetype": "text/x-python",
   "name": "python",
   "nbconvert_exporter": "python",
   "pygments_lexer": "ipython3",
   "version": "3.7.6"
  }
 },
 "nbformat": 4,
 "nbformat_minor": 1
}
