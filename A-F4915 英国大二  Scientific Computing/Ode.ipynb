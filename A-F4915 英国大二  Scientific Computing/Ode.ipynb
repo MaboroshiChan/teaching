{
 "cells": [
  {
   "cell_type": "code",
   "execution_count": 1,
   "id": "552fd9a1",
   "metadata": {},
   "outputs": [],
   "source": [
    "from scipy.integrate import solve_ivp\n",
    "from math import sin\n",
    "import numpy as np\n",
    "import matplotlib.pyplot as plt"
   ]
  },
  {
   "cell_type": "code",
   "execution_count": 2,
   "id": "fcb7b795",
   "metadata": {},
   "outputs": [],
   "source": [
    "def func1(x, t): #x' = sin(x + t), x(0) = 0\n",
    "    return sin(x + t)"
   ]
  },
  {
   "cell_type": "code",
   "execution_count": 3,
   "id": "272e6949",
   "metadata": {},
   "outputs": [],
   "source": [
    "def func2(x, t): # x = (x - t)^2, x(0) = 0\n",
    "    r = x - t\n",
    "    return r * r"
   ]
  },
  {
   "cell_type": "code",
   "execution_count": 31,
   "id": "9532953f",
   "metadata": {},
   "outputs": [],
   "source": [
    "sol1 = solve_ivp(fun=func1, y0=[0], t_span=(-10, 10))\n",
    "sol2 = solve_ivp(fun=func2, y0=[0], t_span=(1, 100))"
   ]
  },
  {
   "cell_type": "code",
   "execution_count": 25,
   "id": "4fd5188e",
   "metadata": {},
   "outputs": [
    {
     "data": {
      "text/plain": [
       "array([-10.        ,  -9.9999    ,  -9.9989    ,  -9.9889    ,\n",
       "        -9.8889    ,  -9.36290452,  -8.76942596,  -8.08084912,\n",
       "        -6.85796294,  -4.78927155,  -1.04211383,   6.0936436 ,\n",
       "        10.        ])"
      ]
     },
     "execution_count": 25,
     "metadata": {},
     "output_type": "execute_result"
    }
   ],
   "source": [
    "sol1.t"
   ]
  },
  {
   "cell_type": "code",
   "execution_count": 26,
   "id": "2b7fbbbf",
   "metadata": {},
   "outputs": [
    {
     "data": {
      "text/plain": [
       "array([[ 0.00000000e+00,  5.43956333e-05,  5.97639372e-04,\n",
       "         5.95877859e-03,  5.24357956e-02,  1.03319171e-01,\n",
       "        -1.11198355e-01, -5.44660059e-01, -1.52626047e+00,\n",
       "        -3.40982719e+00, -7.02401932e+00, -1.40726998e+01,\n",
       "        -1.79545218e+01]])"
      ]
     },
     "execution_count": 26,
     "metadata": {},
     "output_type": "execute_result"
    }
   ],
   "source": [
    "sol1.y"
   ]
  },
  {
   "cell_type": "code",
   "execution_count": 27,
   "id": "56ce96b4",
   "metadata": {
    "scrolled": true
   },
   "outputs": [
    {
     "data": {
      "image/png": "[encoded data removed]",
      "text/plain": [
       "<Figure size 432x288 with 1 Axes>"
      ]
     },
     "metadata": {
      "needs_background": "light"
     },
     "output_type": "display_data"
    }
   ],
   "source": [
    "length1 = len(sol1.y[0])\n",
    "length2 = len(sol2.y[0])\n",
    "\n",
    "plt.plot(sol1.t, sol1.y[0])\n",
    "plt.xlabel('t')\n",
    "plt.legend(['x'], shadow=True)\n",
    "plt.title('Exercise')\n",
    "plt.show()  # x(t) ~= -7.5 + -x"
   ]
  },
  {
   "cell_type": "code",
   "execution_count": 32,
   "id": "32072f2c",
   "metadata": {},
   "outputs": [
    {
     "data": {
      "image/png": "[encoded data removed]",
      "text/plain": [
       "<Figure size 432x288 with 1 Axes>"
      ]
     },
     "metadata": {
      "needs_background": "light"
     },
     "output_type": "display_data"
    }
   ],
   "source": [
    "plt.plot(sol2.t, sol2.y[0])\n",
    "plt.xlabel('t')\n",
    "plt.legend(['x'], shadow=True)\n",
    "plt.title('Exercise')\n",
    "plt.show() #x(t) = t"
   ]
  },
  {
   "cell_type": "code",
   "execution_count": 15,
   "id": "e060d488",
   "metadata": {},
   "outputs": [
    {
     "data": {
      "text/plain": [
       "array([0.00000000e+00, 1.00099099e-02, 1.11211179e-01, 1.24715084e+00,\n",
       "       8.82125228e+00, 2.20914947e+01, 4.70413939e+01, 8.64248012e+01,\n",
       "       1.65251387e+02, 2.78005332e+02, 5.33434607e+02, 8.37090632e+02,\n",
       "       1.66678511e+03, 2.44781146e+03, 4.59130677e+03, 6.82026628e+03,\n",
       "       1.32393017e+04, 1.93113263e+04, 3.56596631e+04, 5.33076592e+04,\n",
       "       1.05533659e+05, 1.52407434e+05, 2.74192198e+05, 4.15413278e+05,\n",
       "       8.56731114e+05, 1.21418965e+06, 2.08353101e+06, 3.23817540e+06,\n",
       "       6.43011717e+06, 9.39137299e+06, 1.74096139e+07, 2.59672114e+07,\n",
       "       5.10769818e+07, 7.39830639e+07, 1.34146137e+08, 2.02395281e+08,\n",
       "       4.12082046e+08, 5.87391257e+08, 1.02232891e+09, 1.57661203e+09,\n",
       "       3.44457924e+09, 4.76353502e+09, 7.71935594e+09, 1.23866441e+10,\n",
       "       2.39901463e+10, 3.61306326e+10, 7.31594452e+10, 1.04543141e+11,\n",
       "       1.83085659e+11, 2.81362510e+11, 6.07550675e+11, 8.44520336e+11,\n",
       "       1.38456162e+12, 2.20253842e+12, 4.31123503e+12, 6.42799424e+12,\n",
       "       1.26298732e+13, 1.84132861e+13, 3.39696456e+13])"
      ]
     },
     "execution_count": 15,
     "metadata": {},
     "output_type": "execute_result"
    }
   ],
   "source": [
    "sol2.y[0]"
   ]
  },
  {
   "cell_type": "code",
   "execution_count": 33,
   "id": "795b40da",
   "metadata": {},
   "outputs": [
    {
     "data": {
      "text/plain": [
       "array([  1.        ,   1.0001    ,   1.0011    ,   1.0111    ,\n",
       "         1.1111    ,   2.1111    ,  12.1111    ,  61.97216925,\n",
       "        63.49328248,  65.01439571,  67.47944961,  67.95608093,\n",
       "        68.43271225,  70.18903927,  71.66717882,  73.14531836,\n",
       "        74.90212915,  76.07613656,  77.25014396,  79.52665338,\n",
       "        80.41045673,  81.29426007,  84.24253293,  84.89048096,\n",
       "        85.538429  ,  88.06270849,  88.54877042,  89.03483235,\n",
       "        90.78888982,  92.28620587,  93.78352193,  95.47000556,\n",
       "        96.55952893,  97.64905229,  99.84884656, 100.        ])"
      ]
     },
     "execution_count": 33,
     "metadata": {},
     "output_type": "execute_result"
    }
   ],
   "source": [
    "sol2.t"
   ]
  },
  {
   "cell_type": "code",
   "execution_count": 34,
   "id": "7f4ac888",
   "metadata": {},
   "outputs": [
    {
     "data": {
      "text/plain": [
       "3"
      ]
     },
     "execution_count": 34,
     "metadata": {},
     "output_type": "execute_result"
    }
   ],
   "source": [
    "def f(x):\n",
    "    return x + 1\n",
    "\n",
    "g = f(2)\n",
    "g"
   ]
  },
  {
   "cell_type": "code",
   "execution_count": 35,
   "id": "332b5c8b",
   "metadata": {},
   "outputs": [
    {
     "data": {
      "text/plain": [
       "5"
      ]
     },
     "execution_count": 35,
     "metadata": {},
     "output_type": "execute_result"
    }
   ],
   "source": [
    "f(4)"
   ]
  },
  {
   "cell_type": "code",
   "execution_count": 37,
   "id": "c8a7f4cc",
   "metadata": {},
   "outputs": [
    {
     "data": {
      "text/plain": [
       "0.6502878401571168"
      ]
     },
     "execution_count": 37,
     "metadata": {},
     "output_type": "execute_result"
    }
   ],
   "source": [
    "# f(x) = x + 1\n",
    "\n",
    "func1(12, 3)"
   ]
  },
  {
   "cell_type": "code",
   "execution_count": 38,
   "id": "f80d1c1e",
   "metadata": {},
   "outputs": [
    {
     "data": {
      "text/plain": [
       "4"
      ]
     },
     "execution_count": 38,
     "metadata": {},
     "output_type": "execute_result"
    }
   ],
   "source": [
    "def h(x):\n",
    "    result = x * x\n",
    "    return result\n",
    "h(2)"
   ]
  },
  {
   "cell_type": "code",
   "execution_count": 39,
   "id": "ed3e60ef",
   "metadata": {},
   "outputs": [
    {
     "data": {
      "text/plain": [
       "9"
      ]
     },
     "execution_count": 39,
     "metadata": {},
     "output_type": "execute_result"
    }
   ],
   "source": [
    "h(3)"
   ]
  },
  {
   "cell_type": "code",
   "execution_count": null,
   "id": "dfef51ec",
   "metadata": {},
   "outputs": [],
   "source": []
  }
 ],
 "metadata": {
  "kernelspec": {
   "display_name": "Python 3 (ipykernel)",
   "language": "python",
   "name": "python3"
  },
  "language_info": {
   "codemirror_mode": {
    "name": "ipython",
    "version": 3
   },
   "file_extension": ".py",
   "mimetype": "text/x-python",
   "name": "python",
   "nbconvert_exporter": "python",
   "pygments_lexer": "ipython3",
   "version": "3.9.10"
  }
 },
 "nbformat": 4,
 "nbformat_minor": 5
}
